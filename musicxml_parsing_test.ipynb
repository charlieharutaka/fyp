{
 "metadata": {
  "language_info": {
   "codemirror_mode": {
    "name": "ipython",
    "version": 3
   },
   "file_extension": ".py",
   "mimetype": "text/x-python",
   "name": "python",
   "nbconvert_exporter": "python",
   "pygments_lexer": "ipython3",
   "version": "3.8.5"
  },
  "orig_nbformat": 2,
  "kernelspec": {
   "name": "python385jvsc74a57bd0ebddc67d66e39b7e3d074ada8acf97e20f48e4fc5e38c6b9893e7bed32264973",
   "display_name": "Python 3.8.5 64-bit"
  }
 },
 "nbformat": 4,
 "nbformat_minor": 2,
 "cells": [
  {
   "cell_type": "code",
   "execution_count": 1,
   "metadata": {},
   "outputs": [],
   "source": [
    "from collections import namedtuple\n",
    "\n",
    "import xml\n",
    "from xml.etree import ElementTree\n",
    "from pprint import pprint\n"
   ]
  },
  {
   "cell_type": "code",
   "execution_count": 3,
   "metadata": {},
   "outputs": [
    {
     "output_type": "stream",
     "name": "stdout",
     "text": [
      "<Element 'score-partwise' at 0x00000246DE25C400>\n<Element 'work' at 0x00000246DE25C450>\n<Element 'identification' at 0x00000246DE25C4F0>\n<Element 'defaults' at 0x00000246DE25C900>\n<Element 'credit' at 0x00000246DE25CEF0>\n<Element 'part-list' at 0x00000246DE25D040>\n<Element 'part' at 0x00000246DE25D4A0>\n"
     ]
    }
   ],
   "source": [
    "tree = ElementTree.parse('data/VocalSetScoresOld/excerpts_row.musicxml')\n",
    "root = tree.getroot()\n",
    "\n",
    "print(root)\n",
    "for child in root:\n",
    "    print(child)"
   ]
  },
  {
   "cell_type": "code",
   "execution_count": 4,
   "metadata": {},
   "outputs": [],
   "source": [
    "# A4 is 69\n",
    "accidental2note = {'flat': -1, 'natural': 0, 'sharp': 1}\n",
    "step2note = {'C': 0, 'D': 2, 'E': 4, 'F': 5, 'G': 7, 'A': 9, 'B': 11}\n",
    "def pitch2note(step, octave, accidental='natural'):\n",
    "    try:\n",
    "        step = str(step)\n",
    "        octave = int(octave)\n",
    "        accidental = str(accidental)\n",
    "        return step2note[step] + accidental2note[accidental] + (octave + 1) * 12\n",
    "    except KeyError:\n",
    "        raise ValueError(f\"Step {step} or accidental {accidental} is not valid\")"
   ]
  },
  {
   "cell_type": "code",
   "execution_count": 5,
   "metadata": {},
   "outputs": [
    {
     "output_type": "execute_result",
     "data": {
      "text/plain": [
       "70"
      ]
     },
     "metadata": {},
     "execution_count": 5
    }
   ],
   "source": [
    "pitch2note('A', 4, 'sharp')"
   ]
  },
  {
   "cell_type": "code",
   "execution_count": 6,
   "metadata": {},
   "outputs": [],
   "source": [
    "arpabet_vowels = {\"AA\", \"AE\", \"AH\", \"AO\", \"AW\", \"AX\", \"AXR\", \"AY\", \"EH\", \"ER\", \"EY\", \"IH\", \"IX\", \"IY\", \"OW\", \"OY\", \"UH\", \"UW\", \"IX\"}\n",
    "arpabet_consonants = {\"B\", \"CH\", \"D\", \"DH\", \"DX\", \"EL\", \"EM\", \"EN\", \"F\", \"G\", \"HH\", \"H\", \"JH\", \"K\", \"L\", \"M\", \"N\", \"NG\", \"NX\", \"P\", \"Q\", \"R\", \"S\", \"SH\", \"T\", \"TH\", \"V\", \"W\", \"WH\", \"Y\", \"Z\", \"ZH\"}\n",
    "arpabet = arpabet_vowels.union(arpabet_consonants)\n",
    "\n",
    "arpabet2idx\n",
    "\n",
    "Note = namedtuple('Note', [\"pitch\", \"duration\", \"lyric\"])"
   ]
  },
  {
   "cell_type": "code",
   "execution_count": 7,
   "metadata": {},
   "outputs": [
    {
     "output_type": "stream",
     "name": "stdout",
     "text": [
      "{'P1': {'name': 'Voice',\n        'notes': [Note(pitch=60, duration=12, lyric=['R', 'OW']),\n                  Note(pitch=60, duration=12, lyric=['R', 'OW']),\n                  Note(pitch=60, duration=9, lyric=['R', 'OW']),\n                  Note(pitch=62, duration=3, lyric=['Y', 'AO', 'R']),\n                  Note(pitch=64, duration=12, lyric=['B', 'OW', 'T']),\n                  Note(pitch=64, duration=9, lyric=['JH', 'EH', 'N', 'T']),\n                  Note(pitch=62, duration=3, lyric=['L', 'IY']),\n                  Note(pitch=64, duration=9, lyric=['D', 'AW', 'N']),\n                  Note(pitch=65, duration=3, lyric=['DH', 'AH']),\n                  Note(pitch=67, duration=24, lyric=['S', 'T', 'R', 'IY', 'M']),\n                  Note(pitch=72, duration=4, lyric=['M', 'EH']),\n                  Note(pitch=72, duration=4, lyric=['R', 'AH']),\n                  Note(pitch=72, duration=4, lyric=['L', 'IY']),\n                  Note(pitch=67, duration=4, lyric=['M', 'EH']),\n                  Note(pitch=67, duration=4, lyric=['R', 'AH']),\n                  Note(pitch=67, duration=4, lyric=['L', 'IY']),\n                  Note(pitch=64, duration=4, lyric=['M', 'EH']),\n                  Note(pitch=64, duration=4, lyric=['R', 'AH']),\n                  Note(pitch=64, duration=4, lyric=['L', 'IY']),\n                  Note(pitch=60, duration=4, lyric=['M', 'EH']),\n                  Note(pitch=60, duration=4, lyric=['R', 'AH']),\n                  Note(pitch=60, duration=4, lyric=['L', 'IY']),\n                  Note(pitch=67, duration=9, lyric=['L', 'AY', 'F']),\n                  Note(pitch=65, duration=3, lyric=['IH', 'Z']),\n                  Note(pitch=64, duration=9, lyric=['B', 'AH', 'T']),\n                  Note(pitch=62, duration=3, lyric=['AH']),\n                  Note(pitch=60, duration=24, lyric=['D', 'R', 'IY', 'M'])]}}\n"
     ]
    }
   ],
   "source": [
    "parts = {}\n",
    "for part in root.findall('part-list/score-part'):\n",
    "    parts[part.attrib['id']] = {'name': part.find('part-name').text}\n",
    "for part_id in parts.keys():\n",
    "    part = root.find(f'part[@id=\"{part_id}\"]')\n",
    "    measures = part.findall('measure')\n",
    "    parsed_notes = []\n",
    "    last_lyric = []\n",
    "    for measure in measures:\n",
    "        notes = measure.findall('note')\n",
    "        for note in notes:\n",
    "            duration = int(note.find(\"duration\").text)\n",
    "            is_rest = note.find(\"rest\") is not None\n",
    "            if not is_rest:\n",
    "                pitch = note.find(\"pitch\")\n",
    "                step = pitch.find(\"step\").text\n",
    "                octave = int(pitch.find(\"octave\").text)\n",
    "                accidental = note.find(\"accidental\")\n",
    "                if accidental is None:\n",
    "                    accidental = 'natural'\n",
    "                else:\n",
    "                    accidental = accidental.text\n",
    "                lyric = note.find(\"lyric[@number='2']\")\n",
    "                if lyric is not None:\n",
    "                    lyric = lyric.find(\"text\").text.replace(\"\\xa0\", \" \").split(\" \")\n",
    "                    for phoneme in lyric:\n",
    "                        assert phoneme in arpabet, f\"Unexpected phoneme {phoneme}\"\n",
    "                else:\n",
    "                    assert len(last_lyric) > 0, \"Expected a lyric\"\n",
    "                    lyric = []\n",
    "                    last_phoneme = last_lyric[-1]\n",
    "                    if last_phoneme in arpabet_consonants:\n",
    "                        # Pop it and carry it over, and repeat the vowel\n",
    "                        lyric.append(last_lyric.pop(-1))\n",
    "                        lyric.insert(0, last_lyric[-1])\n",
    "                    else:\n",
    "                        # Just repeat the vowel\n",
    "                        lyric.append(last_lyric[-1])\n",
    "                last_lyric = lyric\n",
    "                note = pitch2note(step, octave, accidental)\n",
    "                parsed_notes.append(Note(note, duration, lyric))\n",
    "            else:\n",
    "                parsed_notes.append(Note(None, duration, None))\n",
    "    parts[part_id]['notes'] = parsed_notes\n",
    "pprint(parts)"
   ]
  },
  {
   "cell_type": "code",
   "execution_count": 9,
   "metadata": {},
   "outputs": [
    {
     "output_type": "execute_result",
     "data": {
      "text/plain": [
       "{'P1': {'name': 'Voice',\n",
       "  'notes': [Note(pitch=60, duration=4, lyric=['AH']),\n",
       "   Note(pitch=72, duration=4, lyric=['AH']),\n",
       "   Note(pitch=77, duration=4, lyric=['AH'])]}}"
      ]
     },
     "metadata": {},
     "execution_count": 9
    }
   ],
   "source": [
    "from utils.musicxml import parse_musicxml\n",
    "parse_musicxml('data/VocalSetScoresOld/long_tones.musicxml', constant_phoneme=\"AH\")"
   ]
  }
 ]
}